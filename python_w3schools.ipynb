{
  "nbformat": 4,
  "nbformat_minor": 0,
  "metadata": {
    "colab": {
      "name": "python_w3schools.ipynb",
      "provenance": []
    },
    "kernelspec": {
      "name": "python3",
      "display_name": "Python 3"
    },
    "language_info": {
      "name": "python"
    }
  },
  "cells": [
    {
      "cell_type": "markdown",
      "source": [
        "## Python w3schools"
      ],
      "metadata": {
        "id": "kjaqy10KdFsS"
      }
    },
    {
      "cell_type": "markdown",
      "source": [
        "###### List"
      ],
      "metadata": {
        "id": "S5Z0tD1RdRIF"
      }
    },
    {
      "cell_type": "code",
      "execution_count": 1,
      "metadata": {
        "colab": {
          "base_uri": "https://localhost:8080/"
        },
        "id": "r3IjUI6Nc5v2",
        "outputId": "afe3a3c0-2654-4da4-da01-655d49cae086"
      },
      "outputs": [
        {
          "output_type": "stream",
          "name": "stdout",
          "text": [
            "Param\n"
          ]
        }
      ],
      "source": [
        "first_name = \"Param\"\n",
        "age = 10\n",
        "print(first_name)"
      ]
    }
  ]
}