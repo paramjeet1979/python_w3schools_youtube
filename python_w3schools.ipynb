{
  "nbformat": 4,
  "nbformat_minor": 0,
  "metadata": {
    "colab": {
      "name": "python_w3schools.ipynb",
      "provenance": []
    },
    "kernelspec": {
      "name": "python3",
      "display_name": "Python 3"
    },
    "language_info": {
      "name": "python"
    }
  },
  "cells": [
    {
      "cell_type": "markdown",
      "source": [
        "## Python w3schools"
      ],
      "metadata": {
        "id": "kjaqy10KdFsS"
      }
    },
    {
      "cell_type": "markdown",
      "source": [
        "###### List"
      ],
      "metadata": {
        "id": "S5Z0tD1RdRIF"
      }
    },
    {
      "cell_type": "code",
      "execution_count": 1,
      "metadata": {
        "colab": {
          "base_uri": "https://localhost:8080/"
        },
        "id": "r3IjUI6Nc5v2",
        "outputId": "41631b24-ad6f-4682-a68b-3d010a5a0b77"
      },
      "outputs": [
        {
          "output_type": "stream",
          "name": "stdout",
          "text": [
            "Param 2\n"
          ]
        }
      ],
      "source": [
        "first_name = \"Param 2\"\n",
        "age = 10\n",
        "print(first_name)"
      ]
    },
    {
      "cell_type": "code",
      "source": [
        "a = 10 + 20\n",
        "print(a)"
      ],
      "metadata": {
        "id": "sMkWHyY_fIYZ",
        "outputId": "18f545bb-3f29-445d-c9e5-a43fd4803ce1",
        "colab": {
          "base_uri": "https://localhost:8080/"
        }
      },
      "execution_count": 2,
      "outputs": [
        {
          "output_type": "stream",
          "name": "stdout",
          "text": [
            "30\n"
          ]
        }
      ]
    }
  ]
}